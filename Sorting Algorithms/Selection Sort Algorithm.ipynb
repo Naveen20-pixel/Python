{
 "cells": [
  {
   "cell_type": "markdown",
   "metadata": {},
   "source": [
    "## Selection Sort Algorithm"
   ]
  },
  {
   "cell_type": "markdown",
   "metadata": {},
   "source": [
    "a. Find out the minimum value  \n",
    "b. Swap minimum value to 0th position  \n",
    "c. Take sublist(except sorted part) and repeat step1 and step2  "
   ]
  },
  {
   "cell_type": "markdown",
   "metadata": {},
   "source": [
    "#### 1. Sorting in Ascending Order"
   ]
  },
  {
   "cell_type": "code",
   "execution_count": 1,
   "metadata": {},
   "outputs": [
    {
     "name": "stdout",
     "output_type": "stream",
     "text": [
      " Enter how many numbers you want in a list:4\n",
      "Enter numbers:8\n",
      "Enter numbers:4\n",
      "Enter numbers:9\n",
      "Enter numbers:3\n"
     ]
    }
   ],
   "source": [
    "num = int(input(\" Enter how many numbers you want in a list:\"))\n",
    "list1 = [int(input(\"Enter numbers:\")) for x in range(num)]"
   ]
  },
  {
   "cell_type": "code",
   "execution_count": 2,
   "metadata": {},
   "outputs": [],
   "source": [
    "for i in range(len(list1)-1):\n",
    "    min_value = min(list1[i:])\n",
    "    min_index = list1.index(min_value,i)\n",
    "    if list1[i] != list1[min_index]:\n",
    "        list1[i],list1[min_index] = list1[min_index],list1[i]"
   ]
  },
  {
   "cell_type": "code",
   "execution_count": 3,
   "metadata": {},
   "outputs": [
    {
     "name": "stdout",
     "output_type": "stream",
     "text": [
      "[3, 4, 8, 9]\n"
     ]
    }
   ],
   "source": [
    "print(list1)"
   ]
  },
  {
   "cell_type": "markdown",
   "metadata": {},
   "source": [
    "#### 2. Sorting in Descending Order"
   ]
  },
  {
   "cell_type": "code",
   "execution_count": 4,
   "metadata": {},
   "outputs": [
    {
     "name": "stdout",
     "output_type": "stream",
     "text": [
      " Enter how many numbers you want in a list:4\n",
      "Enter numbers:8\n",
      "Enter numbers:4\n",
      "Enter numbers:9\n",
      "Enter numbers:3\n"
     ]
    }
   ],
   "source": [
    "num = int(input(\" Enter how many numbers you want in a list:\"))\n",
    "list1 = [int(input(\"Enter numbers:\")) for x in range(num)]"
   ]
  },
  {
   "cell_type": "code",
   "execution_count": 5,
   "metadata": {},
   "outputs": [],
   "source": [
    " for i in range(len(list1)-1):\n",
    "    max_value = max(list1[i:])\n",
    "    max_index = list1.index(max_value,i)\n",
    "    if list1[i] != list1[max_index]:\n",
    "        list1[i],list1[max_index] = list1[max_index],list1[i]"
   ]
  },
  {
   "cell_type": "code",
   "execution_count": 6,
   "metadata": {},
   "outputs": [
    {
     "name": "stdout",
     "output_type": "stream",
     "text": [
      "[9, 8, 4, 3]\n"
     ]
    }
   ],
   "source": [
    "print(list1)"
   ]
  },
  {
   "cell_type": "markdown",
   "metadata": {},
   "source": [
    "#### Without using min() max() method"
   ]
  },
  {
   "cell_type": "code",
   "execution_count": 7,
   "metadata": {},
   "outputs": [
    {
     "name": "stdout",
     "output_type": "stream",
     "text": [
      " Enter how many numbers you want in a list:4\n",
      "Enter numbers:8\n",
      "Enter numbers:4\n",
      "Enter numbers:9\n",
      "Enter numbers:3\n"
     ]
    }
   ],
   "source": [
    "num = int(input(\" Enter how many numbers you want in a list:\"))\n",
    "list1 = [int(input(\"Enter numbers:\")) for x in range(num)]"
   ]
  },
  {
   "cell_type": "code",
   "execution_count": 8,
   "metadata": {},
   "outputs": [],
   "source": [
    "for i in range(len(list1)):\n",
    "    m_val = list1[i]\n",
    "    for j in range(i+1,len(list1)):\n",
    "        if list1[j] < m_val:\n",
    "            m_val = list1[j]\n",
    "            \n",
    "        m_index = list1.index(m_val,i)     \n",
    "    if list1[i] != list1[m_index]:\n",
    "        list1[i],list1[m_index] = list1[m_index],list1[i]"
   ]
  },
  {
   "cell_type": "code",
   "execution_count": 9,
   "metadata": {},
   "outputs": [
    {
     "name": "stdout",
     "output_type": "stream",
     "text": [
      "[3, 4, 8, 9]\n"
     ]
    }
   ],
   "source": [
    "print(list1)"
   ]
  },
  {
   "cell_type": "code",
   "execution_count": null,
   "metadata": {},
   "outputs": [],
   "source": []
  }
 ],
 "metadata": {
  "kernelspec": {
   "display_name": "Python 3",
   "language": "python",
   "name": "python3"
  },
  "language_info": {
   "codemirror_mode": {
    "name": "ipython",
    "version": 3
   },
   "file_extension": ".py",
   "mimetype": "text/x-python",
   "name": "python",
   "nbconvert_exporter": "python",
   "pygments_lexer": "ipython3",
   "version": "3.7.4"
  }
 },
 "nbformat": 4,
 "nbformat_minor": 2
}
